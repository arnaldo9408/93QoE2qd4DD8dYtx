{
 "cells": [
  {
   "cell_type": "code",
   "execution_count": 47,
   "metadata": {},
   "outputs": [],
   "source": [
    "# Import the necessary libraries\n",
    "\n",
    "import warnings\n",
    "\n",
    "warnings.filterwarnings(action = 'ignore')\n",
    "\n",
    "import os\n",
    "import sys\n",
    "import numpy as np\n",
    "import cv2\n",
    "import skvideo.io\n",
    "import glob\n",
    "import matplotlib.pyplot as plt\n",
    "\n",
    "import tensorflow as tf\n",
    "from keras.applications.vgg16 import VGG16\n",
    "from tensorflow import keras\n",
    "from keras.applications.vgg16 import preprocess_input\n",
    "from tensorflow.keras import layers\n",
    "from tensorflow.keras.layers import (Flatten, Dense, Activation, MaxPooling2D, Conv2D, InputLayer)\n",
    "from tensorflow.keras.models import Sequential\n",
    "from tensorflow.keras.optimizers import SGD\n",
    "\n",
    "from numba import double, jit, njit, vectorize\n",
    "\n",
    "import progressbar\n",
    "\n",
    "import time\n",
    "\n",
    "import PIL\n",
    "from PIL import Image, ImageEnhance\n",
    "\n",
    "\n",
    "from sklearn.metrics import (confusion_matrix, classification_report, ConfusionMatrixDisplay)\n",
    "from sklearn.utils import shuffle\n",
    "\n",
    "import pickle\n",
    "\n",
    "import math   # for mathematical operations\n",
    "\n",
    "import pandas as pd\n",
    "from keras.preprocessing import image   # for preprocessing the images\n",
    "import numpy as np    # for mathematical operations\n",
    "from keras.utils import np_utils\n",
    "from skimage.transform import resize   # for resizing images\n",
    "\n",
    "from moviepy.editor import VideoFileClip, concatenate_videoclips\n"
   ]
  },
  {
   "cell_type": "markdown",
   "metadata": {},
   "source": [
    "## Data Wrangling"
   ]
  },
  {
   "cell_type": "code",
   "execution_count": 2,
   "metadata": {},
   "outputs": [],
   "source": [
    "# Establish the path to read all of the images \n",
    "\n",
    "path_training_flip = glob.glob('/Users/arnaldofolder/Documents/Apziva/Fourth Project/images/training/flip/*.jpg')\n",
    "\n",
    "path_training_notflip = glob.glob('/Users/arnaldofolder/Documents/Apziva/Fourth Project/images/training/notflip/*.jpg')\n",
    "\n",
    "path_testing_flip = glob.glob('/Users/arnaldofolder/Documents/Apziva/Fourth Project/images/testing/flip/*.jpg')\n",
    "\n",
    "path_testing_notflip = glob.glob('/Users/arnaldofolder/Documents/Apziva/Fourth Project/images/testing/notflip/*.jpg')"
   ]
  },
  {
   "cell_type": "markdown",
   "metadata": {},
   "source": [
    "## Data Preprocessing"
   ]
  },
  {
   "cell_type": "code",
   "execution_count": 3,
   "metadata": {},
   "outputs": [],
   "source": [
    "# Define a function that will do all the preprocessing for each image to be ready for modeling\n",
    "\n",
    "def image_preprocessing(path):\n",
    "    # Create an empty list to store all the preprocessed images\n",
    "    images = []\n",
    "    # Start by creating a for loop through all the path and make the preprocessing to each image\n",
    "    for i in path:\n",
    "        # Firstly read the image\n",
    "        img = cv2.imread(i)\n",
    "        # Adjust the size so all iamges will have the same size\n",
    "        img = cv2.resize(img, dsize = (70,140), interpolation=cv2.INTER_CUBIC)\n",
    "        # Crop to remove part of the images I don't need for the modeling part\n",
    "        y,h,x,w = 0,100,0,70\n",
    "        img = img[y:y+h, x:x+w]\n",
    "        # Adjust brightness, contrast\n",
    "        alpha=1.5\n",
    "        beta=0.5\n",
    "        img = cv2.addWeighted(img, alpha, np.zeros(img.shape, img.dtype), 0, beta)\n",
    "        # Normalize the images to be black and white by reverting the images and then dividing by 255.0\n",
    "        img = cv2.bitwise_not(img)\n",
    "        img = img/255\n",
    "\n",
    "        # Append the img to the list images\n",
    "        images.append(img)\n",
    "        # Create the video\n",
    "\n",
    "    # Return the list with the preprocessed images\n",
    "    return images"
   ]
  },
  {
   "cell_type": "code",
   "execution_count": 4,
   "metadata": {},
   "outputs": [],
   "source": [
    "# Define functions to create a video from images\n",
    "\n",
    "def video_creator(path, pathIn, time, fps):\n",
    "    frame_video = []\n",
    "    for i in path:\n",
    "        img = cv2.imread(i)\n",
    "        height, width, layers = img.shape\n",
    "        size = (width, height)\n",
    "        frame_video.append(img)\n",
    "    out = cv2.VideoWriter(pathIn, cv2.VideoWriter_fourcc(*'mp4v'), fps, size)\n",
    "    for i in range(len(path)):\n",
    "        out.write(frame_video[i])\n",
    "    \n",
    "    out.release()"
   ]
  },
  {
   "cell_type": "code",
   "execution_count": 5,
   "metadata": {},
   "outputs": [],
   "source": [
    "# Read and preprocess the training data\n",
    "\n",
    "img_training_flip = image_preprocessing(path = path_training_flip)\n",
    "\n",
    "# Read the training not flip\n",
    "\n",
    "img_training_notflip = image_preprocessing(path = path_training_notflip)\n",
    "\n",
    "# Read the test flip\n",
    "\n",
    "img_testing_flip = image_preprocessing(path = path_testing_flip)\n",
    "\n",
    "# Read the test not flip\n",
    "\n",
    "img_testing_notflip = image_preprocessing(path = path_testing_notflip)"
   ]
  },
  {
   "cell_type": "code",
   "execution_count": 6,
   "metadata": {},
   "outputs": [],
   "source": [
    "# Define the labels for the problem\n",
    "\n",
    "y_train_flip = [1 for i in range(0, len(img_training_flip))]\n",
    "\n",
    "y_train_notflip = [0 for i in range(0, len(img_training_notflip))]\n",
    "\n",
    "y_test_flip = [1 for i in range(0, len(img_testing_flip))]\n",
    "\n",
    "y_test_notflip = [0 for i in range(0, len(img_testing_notflip))]"
   ]
  },
  {
   "cell_type": "code",
   "execution_count": 7,
   "metadata": {},
   "outputs": [],
   "source": [
    "# Create the video for the training flip\n",
    "\n",
    "video_creator(path = path_training_flip, pathIn = 'training_flip.avi', time = len(path_training_flip), fps = 1)\n",
    "\n",
    "# Create the video for the training not flip\n",
    "\n",
    "video_creator(path = path_training_notflip, pathIn = 'training_notflip.avi', time = len(img_training_notflip), fps = 1)\n",
    "\n",
    "# Create the video for the test flip\n",
    "\n",
    "video_creator(path = path_testing_flip, pathIn = 'test_flip.avi', time = len(img_testing_flip), fps = 1)\n",
    "\n",
    "# Create the video for the test not flip\n",
    "\n",
    "video_creator(path = path_testing_notflip, pathIn = 'test_notflip.avi', time = len(img_testing_notflip), fps = 1)\n",
    "\n"
   ]
  },
  {
   "cell_type": "markdown",
   "metadata": {},
   "source": [
    "### Modeling"
   ]
  },
  {
   "cell_type": "code",
   "execution_count": 8,
   "metadata": {},
   "outputs": [],
   "source": [
    "# Define the X_train, X_test, y_train and y_test for analysis\n",
    "\n",
    "X_train = np.concatenate((img_training_flip, img_training_notflip), axis = 0)\n",
    "\n",
    "X_test = np.concatenate((img_testing_flip, img_testing_notflip), axis = 0)\n",
    "\n",
    "y_train = np.append(y_train_flip, y_train_notflip)\n",
    "\n",
    "y_test = np.append(y_test_flip, y_test_notflip)"
   ]
  },
  {
   "cell_type": "code",
   "execution_count": 9,
   "metadata": {},
   "outputs": [
    {
     "name": "stdout",
     "output_type": "stream",
     "text": [
      "(2392, 100, 70, 3)\n",
      "(2392,)\n",
      "(597, 100, 70, 3)\n",
      "(597,)\n"
     ]
    }
   ],
   "source": [
    "# See if the shapes matches between the X_trian and y_train and the X_test and y_test\n",
    "\n",
    "print(X_train.shape)\n",
    "print(y_train.shape)\n",
    "print(X_test.shape)\n",
    "print(y_test.shape)"
   ]
  },
  {
   "cell_type": "code",
   "execution_count": 10,
   "metadata": {},
   "outputs": [],
   "source": [
    "# Create a new array that will have the original arrays (labels and values) but they will be shuffled. \n",
    "\n",
    "# Create the array for the train data set\n",
    "\n",
    "X_train_shuffle = []\n",
    "\n",
    "# It is necessary to create a for loop with enumeration as well\n",
    "for i,j in enumerate(X_train):\n",
    "    # The new array would be the array containing the image plus its label \n",
    "    new_array = (j, y_train[i])\n",
    "    # Append the values to the array that will be shuffled\n",
    "    X_train_shuffle.append(new_array)\n",
    "    \n",
    "# Have the new set of arrays\n",
    "X_train_shuffle = np.array(X_train_shuffle)\n"
   ]
  },
  {
   "cell_type": "code",
   "execution_count": 11,
   "metadata": {},
   "outputs": [],
   "source": [
    "# Create the array for the test data set\n",
    "\n",
    "X_test_shuffle = []\n",
    "\n",
    "# It is necessary to create a for loop with enumeration as well\n",
    "for i,j in enumerate(X_test):\n",
    "    # The new array would be the array containing the image plus its label \n",
    "    new_array = (j, y_test[i])\n",
    "    # Append the values to the array that will be shuffled\n",
    "    X_test_shuffle.append(new_array)\n",
    "    \n",
    "# Have the new set of arrays  \n",
    "X_test_shuffle = np.array(X_test_shuffle)"
   ]
  },
  {
   "cell_type": "code",
   "execution_count": 12,
   "metadata": {},
   "outputs": [],
   "source": [
    "# Apply the random shuffle to make the train and test with no specific order\n",
    "\n",
    "np.random.shuffle(X_train_shuffle)\n",
    "\n",
    "np.random.shuffle(X_test_shuffle)\n"
   ]
  },
  {
   "cell_type": "code",
   "execution_count": 13,
   "metadata": {},
   "outputs": [],
   "source": [
    "# Separate between the X_train and y_train to fit the model\n",
    "\n",
    "X_train = []\n",
    "y_train = []\n",
    "\n",
    "# Start a for loop into the X_train_shuffle\n",
    "for i in X_train_shuffle:\n",
    "    # The array containing the picture would be the one that is in the index 0\n",
    "    value = i[0]\n",
    "    # The label would be the array that is on the index 1\n",
    "    label = i[1]\n",
    "    # Append the values and the labels to separate arrays\n",
    "    X_train.append(value)\n",
    "    y_train.append(label)\n",
    "\n",
    "# Divide between X_train and y_train to run model\n",
    "X_train = np.array(X_train)\n",
    "\n",
    "y_train = np.array(y_train)"
   ]
  },
  {
   "cell_type": "code",
   "execution_count": 14,
   "metadata": {},
   "outputs": [],
   "source": [
    "# Same for the test data set\n",
    "\n",
    "X_test = []\n",
    "y_test = []\n",
    "\n",
    "# Start a for loop into the X_test_shuffle\n",
    "for i in X_test_shuffle:\n",
    "    # The array containing the picture would be the one that is in the index 0\n",
    "    value = i[0]\n",
    "    # The label would be the array that is on the index 1\n",
    "    label = i[1]\n",
    "    # Append the values and the labels to separate arrays\n",
    "    X_test.append(value)\n",
    "    y_test.append(label)\n",
    "\n",
    "X_test = np.array(X_test)\n",
    "\n",
    "y_test = np.array(y_test)"
   ]
  },
  {
   "cell_type": "code",
   "execution_count": 15,
   "metadata": {},
   "outputs": [
    {
     "name": "stdout",
     "output_type": "stream",
     "text": [
      "(2392, 100, 70, 3)\n",
      "(2392,)\n",
      "(597, 100, 70, 3)\n",
      "(597,)\n"
     ]
    }
   ],
   "source": [
    "# Make sure labels are same than the first shapes\n",
    "\n",
    "print(X_train.shape)\n",
    "print(y_train.shape)\n",
    "print(X_test.shape)\n",
    "print(y_test.shape)"
   ]
  },
  {
   "cell_type": "code",
   "execution_count": 16,
   "metadata": {},
   "outputs": [],
   "source": [
    "# Define a function with the neural networks\n",
    "\n",
    "def neural_network():\n",
    "    model = Sequential()\n",
    "    model.add(Conv2D(32, (3, 3), activation = 'relu', kernel_initializer='he_uniform', \n",
    "                     padding = 'same', input_shape=(100, 70, 3)))\n",
    "    model.add(MaxPooling2D((2, 2)))\n",
    "    \n",
    "    model.add(Flatten())\n",
    "    \n",
    "    model.add(Dense(128, activation='relu', kernel_initializer='he_uniform'))\n",
    "    \n",
    "    model.add(Dense(1, activation='sigmoid'))\n",
    "    # compile model\n",
    "    opt = SGD(lr=0.001, momentum=0.9)\n",
    "    model.compile(optimizer=opt, loss='binary_crossentropy', metrics=['accuracy'])\n",
    "    return model"
   ]
  },
  {
   "cell_type": "code",
   "execution_count": 17,
   "metadata": {},
   "outputs": [
    {
     "name": "stdout",
     "output_type": "stream",
     "text": [
      "Epoch 1/15\n",
      "75/75 [==============================] - 14s 189ms/step - loss: 0.3909 - accuracy: 0.8269\n",
      "Epoch 2/15\n",
      "75/75 [==============================] - 12s 157ms/step - loss: 0.1673 - accuracy: 0.9515\n",
      "Epoch 3/15\n",
      "75/75 [==============================] - 10s 135ms/step - loss: 0.1005 - accuracy: 0.9758\n",
      "Epoch 4/15\n",
      "75/75 [==============================] - 10s 135ms/step - loss: 0.0698 - accuracy: 0.9870\n",
      "Epoch 5/15\n",
      "75/75 [==============================] - 10s 137ms/step - loss: 0.0526 - accuracy: 0.9916\n",
      "Epoch 6/15\n",
      "75/75 [==============================] - 11s 150ms/step - loss: 0.0416 - accuracy: 0.9933\n",
      "Epoch 7/15\n",
      "75/75 [==============================] - 13s 169ms/step - loss: 0.0339 - accuracy: 0.9958\n",
      "Epoch 8/15\n",
      "75/75 [==============================] - 11s 149ms/step - loss: 0.0279 - accuracy: 0.9962\n",
      "Epoch 9/15\n",
      "75/75 [==============================] - 12s 164ms/step - loss: 0.0231 - accuracy: 0.9983\n",
      "Epoch 10/15\n",
      "75/75 [==============================] - 13s 169ms/step - loss: 0.0200 - accuracy: 0.9992\n",
      "Epoch 11/15\n",
      "75/75 [==============================] - 10s 127ms/step - loss: 0.0174 - accuracy: 0.9992\n",
      "Epoch 12/15\n",
      "75/75 [==============================] - 10s 131ms/step - loss: 0.0146 - accuracy: 1.0000\n",
      "Epoch 13/15\n",
      "75/75 [==============================] - 10s 128ms/step - loss: 0.0139 - accuracy: 0.9996\n",
      "Epoch 14/15\n",
      "75/75 [==============================] - 9s 122ms/step - loss: 0.0124 - accuracy: 0.9996\n",
      "Epoch 15/15\n",
      "75/75 [==============================] - 9s 119ms/step - loss: 0.0107 - accuracy: 1.0000\n"
     ]
    },
    {
     "data": {
      "text/plain": [
       "<tensorflow.python.keras.callbacks.History at 0x14c9c2150>"
      ]
     },
     "execution_count": 17,
     "metadata": {},
     "output_type": "execute_result"
    }
   ],
   "source": [
    "# Fit model\n",
    "\n",
    "model = neural_network()\n",
    "\n",
    "# fit model\n",
    "model.fit(X_train, y_train, epochs = 15)"
   ]
  },
  {
   "cell_type": "code",
   "execution_count": 18,
   "metadata": {},
   "outputs": [],
   "source": [
    "# Get the predictions\n",
    "\n",
    "predictions = model.predict(X_test)\n",
    "\n",
    "# Get them into 0 and 1 values\n",
    "\n",
    "binary_values = []\n",
    "\n",
    "# Start a for loop to iterate over the predictions array\n",
    "\n",
    "for i in predictions:\n",
    "    if i < 0.5:\n",
    "        binary_values.append(0)\n",
    "    if i >= 0.5:\n",
    "        binary_values.append(1)\n",
    "        "
   ]
  },
  {
   "cell_type": "code",
   "execution_count": 19,
   "metadata": {},
   "outputs": [
    {
     "data": {
      "image/png": "[encoded data removed]",
      "text/plain": [
       "<Figure size 432x288 with 2 Axes>"
      ]
     },
     "metadata": {
      "needs_background": "light"
     },
     "output_type": "display_data"
    }
   ],
   "source": [
    "# Display the confusion matrix to evaluate the model\n",
    "\n",
    "cm = confusion_matrix(y_test, binary_values)\n",
    "cmd = ConfusionMatrixDisplay(cm, display_labels=['not_flip','flip'])\n",
    "cmd.plot()\n",
    "\n",
    "plt.show()"
   ]
  },
  {
   "cell_type": "code",
   "execution_count": 20,
   "metadata": {},
   "outputs": [
    {
     "name": "stdout",
     "output_type": "stream",
     "text": [
      "              precision    recall  f1-score   support\n",
      "\n",
      "           0       0.98      1.00      0.99       307\n",
      "           1       1.00      0.98      0.99       290\n",
      "\n",
      "    accuracy                           0.99       597\n",
      "   macro avg       0.99      0.99      0.99       597\n",
      "weighted avg       0.99      0.99      0.99       597\n",
      "\n"
     ]
    }
   ],
   "source": [
    "# Print the Classification report to get the precision, recall, f1-score\n",
    "\n",
    "print(classification_report(y_test, binary_values))"
   ]
  },
  {
   "cell_type": "markdown",
   "metadata": {},
   "source": [
    "### Conclusion"
   ]
  },
  {
   "cell_type": "markdown",
   "metadata": {},
   "source": [
    "###### I was able to create a model with 0.99 accuray if a page needs to whether be flipped or not by using deep learning and doing the necessary data preprocessing such as making all the pages the same size, adjusting bright, adding nose, etc."
   ]
  },
  {
   "cell_type": "code",
   "execution_count": 21,
   "metadata": {},
   "outputs": [
    {
     "name": "stdout",
     "output_type": "stream",
     "text": [
      "WARNING:tensorflow:From /opt/anaconda3/lib/python3.7/site-packages/tensorflow/python/training/tracking/tracking.py:111: Model.state_updates (from tensorflow.python.keras.engine.training) is deprecated and will be removed in a future version.\n",
      "Instructions for updating:\n",
      "This property should not be used in TensorFlow 2.0, as updates are applied automatically.\n",
      "WARNING:tensorflow:From /opt/anaconda3/lib/python3.7/site-packages/tensorflow/python/training/tracking/tracking.py:111: Layer.updates (from tensorflow.python.keras.engine.base_layer) is deprecated and will be removed in a future version.\n",
      "Instructions for updating:\n",
      "This property should not be used in TensorFlow 2.0, as updates are applied automatically.\n",
      "INFO:tensorflow:Assets written to: flip_page_classifier/assets\n"
     ]
    }
   ],
   "source": [
    "# Save the model using pickle\n",
    "\n",
    "model_classifier = model.save('flip_page_classifier')"
   ]
  },
  {
   "cell_type": "markdown",
   "metadata": {},
   "source": [
    "# Video Creation"
   ]
  },
  {
   "cell_type": "markdown",
   "metadata": {},
   "source": [
    "## Feature Engineering"
   ]
  },
  {
   "cell_type": "code",
   "execution_count": 22,
   "metadata": {},
   "outputs": [
    {
     "name": "stderr",
     "output_type": "stream",
     "text": [
      "t:   0%|          | 6/2392 [00:00<00:41, 57.43it/s, now=None]"
     ]
    },
    {
     "name": "stdout",
     "output_type": "stream",
     "text": [
      "Moviepy - Building video training_video.avi.\n",
      "Moviepy - Writing video training_video.avi\n",
      "\n"
     ]
    },
    {
     "name": "stderr",
     "output_type": "stream",
     "text": [
      "                                                                \r"
     ]
    },
    {
     "name": "stdout",
     "output_type": "stream",
     "text": [
      "Moviepy - Done !\n",
      "Moviepy - video ready training_video.avi\n"
     ]
    }
   ],
   "source": [
    "# Establish the training video by concatenating the flips with the not flips for train and test data sets.\n",
    "\n",
    "#Establish the train video\n",
    "\n",
    "video_1 = VideoFileClip('training_flip.avi')\n",
    "video_2 = VideoFileClip('training_notflip.avi')\n",
    "\n",
    "training_video = concatenate_videoclips([video_1, video_2])\n",
    "\n",
    "training_video.write_videofile('training_video.avi', codec = 'rawvideo')\n",
    "training_video.close()"
   ]
  },
  {
   "cell_type": "code",
   "execution_count": 23,
   "metadata": {},
   "outputs": [
    {
     "name": "stderr",
     "output_type": "stream",
     "text": [
      "t:   1%|          | 5/597 [00:00<00:12, 47.82it/s, now=None]"
     ]
    },
    {
     "name": "stdout",
     "output_type": "stream",
     "text": [
      "Moviepy - Building video test_video.avi.\n",
      "Moviepy - Writing video test_video.avi\n",
      "\n"
     ]
    },
    {
     "name": "stderr",
     "output_type": "stream",
     "text": [
      "                                                              \r"
     ]
    },
    {
     "name": "stdout",
     "output_type": "stream",
     "text": [
      "Moviepy - Done !\n",
      "Moviepy - video ready test_video.avi\n"
     ]
    }
   ],
   "source": [
    "# Establish the test video\n",
    "\n",
    "video_3 = VideoFileClip('test_flip.avi')\n",
    "video_4 = VideoFileClip('test_notflip.avi')\n",
    "\n",
    "test_video= concatenate_videoclips([video_3, video_4])\n",
    "\n",
    "test_video.write_videofile('test_video.avi', codec = 'rawvideo')\n",
    "test_video.close()"
   ]
  },
  {
   "cell_type": "code",
   "execution_count": 24,
   "metadata": {},
   "outputs": [],
   "source": [
    "# Separate the frames for the training video\n",
    "\n",
    "count = 0\n",
    "\n",
    "videoFile = 'training_video.avi'\n",
    "# Capturing the video from the given path\n",
    "cap = cv2.VideoCapture(videoFile)   \n",
    "# Establish Frame rate\n",
    "frameRate = cap.get(5) \n",
    "\n",
    "x=1\n",
    "\n",
    "filenames_train = []\n",
    "\n",
    "while(cap.isOpened()):\n",
    "    frameId = cap.get(1) #current frame number\n",
    "    ret, frame = cap.read()\n",
    "    if (ret != True):\n",
    "        break\n",
    "    if (frameId % math.floor(frameRate) == 0):\n",
    "        filename =\"frame%d.jpg\" % count;count+=1\n",
    "        filenames_train.append(filename)\n",
    "        cv2.imwrite(filename, frame)\n",
    "cap.release()\n",
    "cv2.destroyAllWindows()"
   ]
  },
  {
   "cell_type": "code",
   "execution_count": 25,
   "metadata": {},
   "outputs": [],
   "source": [
    "# Separate the frames from the test video\n",
    "\n",
    "count = 0\n",
    "\n",
    "videoFile = 'test_video.avi'\n",
    "# Capturing the video from the given path\n",
    "cap = cv2.VideoCapture(videoFile)   \n",
    "# Establish Frame rate\n",
    "frameRate = cap.get(5) \n",
    "\n",
    "x=1\n",
    "\n",
    "filenames_test = []\n",
    "\n",
    "while(cap.isOpened()):\n",
    "    frameId = cap.get(1) #current frame number\n",
    "    ret, frame = cap.read()\n",
    "    if (ret != True):\n",
    "        break\n",
    "    if (frameId % math.floor(frameRate) == 0):\n",
    "        filename =\"frame%d.jpg\" % count;count+=1\n",
    "        filenames_test.append(filename)\n",
    "        cv2.imwrite(filename, frame)\n",
    "cap.release()\n",
    "cv2.destroyAllWindows()"
   ]
  },
  {
   "cell_type": "code",
   "execution_count": 26,
   "metadata": {},
   "outputs": [],
   "source": [
    "# Append the y_train flip and not flip into the same array\n",
    "\n",
    "y_train = np.append(np.array(y_train_flip), np.array(y_train_notflip))\n",
    "\n",
    "# Append the y_test flip and not flip into the same array\n",
    "\n",
    "y_test = np.append(np.array(y_test_flip), np.array(y_test_notflip))\n",
    "\n",
    "# Create the data frame that will show the frameID and the class for the train data\n",
    "\n",
    "data_train = pd.DataFrame({'frameID': filenames_train, 'flip': y_train})\n",
    "\n",
    "# Create the data frame that will show the frameID and the class for the test data\n",
    "\n",
    "data_test = pd.DataFrame({'frameID': filenames_test, 'flip': y_test})\n"
   ]
  },
  {
   "cell_type": "code",
   "execution_count": 27,
   "metadata": {},
   "outputs": [],
   "source": [
    "# Randomly change the data order and reset the index\n",
    "\n",
    "data_train = shuffle(data_train).reset_index(drop = True)\n",
    "\n",
    "data_test = shuffle(data_test).reset_index(drop = True)"
   ]
  },
  {
   "cell_type": "code",
   "execution_count": 28,
   "metadata": {},
   "outputs": [],
   "source": [
    "# Create an empty array\n",
    "\n",
    "X_train = []   \n",
    "\n",
    "# Loop through the frameID column and store every frame in X\n",
    "for img_name in data_train.frameID:\n",
    "    img = plt.imread('' + img_name)\n",
    "    X_train.append(img)  \n",
    "    \n",
    "# Convert the list to an array\n",
    "X_train = np.array(X_train)    \n",
    "\n",
    "# Define the y_train\n",
    "\n",
    "y_train = data_train['flip'].values"
   ]
  },
  {
   "cell_type": "code",
   "execution_count": 29,
   "metadata": {},
   "outputs": [],
   "source": [
    "# Create an empty array\n",
    "\n",
    "X_test = []   \n",
    "\n",
    "# Loop through the frameID column and store every frame in X\n",
    "for img_name in data_test.frameID:\n",
    "    img = plt.imread('' + img_name)\n",
    "    X_test.append(img)  \n",
    "    \n",
    "# Convert the list to an array\n",
    "\n",
    "X_test = np.array(X_test) \n",
    "\n",
    "# Define the y_test\n",
    "\n",
    "y_test = data_test['flip'].values"
   ]
  },
  {
   "cell_type": "code",
   "execution_count": 30,
   "metadata": {},
   "outputs": [],
   "source": [
    "# Define a function to do the preprocessing for each frame of image of the video\n",
    "\n",
    "def image_preprocessing_frame(data):\n",
    "    # Create an empty list to store all the preprocessed images\n",
    "    images = []\n",
    "    # Start by creating a for loop through all the path and make the preprocessing to each image\n",
    "    for i in data:\n",
    "        # Adjust the size so all iamges will have the same size\n",
    "        img = cv2.resize(i, dsize = (70,140), interpolation=cv2.INTER_CUBIC)\n",
    "        # Crop to remove part of the images I don't need for the modeling part\n",
    "        y,h,x,w = 0,100,0,70\n",
    "        img = img[y:y+h, x:x+w]\n",
    "        # Adjust brightness, contrast\n",
    "        alpha=1.5\n",
    "        beta=0.5\n",
    "        img = cv2.addWeighted(img, alpha, np.zeros(img.shape, img.dtype), 0, beta)\n",
    "        # Append the img to the list images\n",
    "        images.append(img)\n",
    "        # Create the video\n",
    "\n",
    "    # Return the list with the preprocessed images\n",
    "    return images"
   ]
  },
  {
   "cell_type": "code",
   "execution_count": 31,
   "metadata": {},
   "outputs": [],
   "source": [
    "# Use the defined function to preprocess the data\n",
    "\n",
    "X_train = image_preprocessing_frame(data = X_train)\n",
    "\n",
    "X_test = image_preprocessing_frame(data = X_test)"
   ]
  },
  {
   "cell_type": "code",
   "execution_count": 32,
   "metadata": {},
   "outputs": [],
   "source": [
    "# Include_top=False to remove the top layer and a base model\n",
    "\n",
    "base_model = VGG16(weights='imagenet', include_top=False, input_shape=(100, 70, 3))    "
   ]
  },
  {
   "cell_type": "code",
   "execution_count": 33,
   "metadata": {},
   "outputs": [],
   "source": [
    "# Convert the list into arrays\n",
    "\n",
    "X_train = np.array(X_train)\n",
    "\n",
    "X_test = np.array(X_test)"
   ]
  },
  {
   "cell_type": "code",
   "execution_count": 34,
   "metadata": {},
   "outputs": [
    {
     "data": {
      "text/plain": [
       "((2392, 3, 2, 512), (597, 3, 2, 512))"
      ]
     },
     "execution_count": 34,
     "metadata": {},
     "output_type": "execute_result"
    }
   ],
   "source": [
    "# We will make predictions using this model for X_train and X_valid, get the features, and then use those \n",
    "# features to retrain the model.\n",
    "\n",
    "X_train = base_model.predict(X_train)\n",
    "\n",
    "X_test = base_model.predict(X_test)\n",
    "\n",
    "X_train.shape, X_test.shape"
   ]
  },
  {
   "cell_type": "code",
   "execution_count": 35,
   "metadata": {},
   "outputs": [],
   "source": [
    "# Centering the data\n",
    "\n",
    "X_train = X_train/X_train.max()\n",
    "\n",
    "X_test = X_test/X_test.max()"
   ]
  },
  {
   "cell_type": "markdown",
   "metadata": {},
   "source": [
    "## Modeling"
   ]
  },
  {
   "cell_type": "code",
   "execution_count": 36,
   "metadata": {},
   "outputs": [],
   "source": [
    "# Define the neural network to use to predict if the frame of the video is flip or not flip\n",
    "\n",
    "def model_neural():\n",
    "    model = Sequential()\n",
    "    model.add(Conv2D(32, (3, 3), activation = 'relu', kernel_initializer='he_uniform', \n",
    "                     padding = 'same', input_shape=(3, 2, 512)))\n",
    "    model.add(MaxPooling2D((2, 2)))\n",
    "    \n",
    "    model.add(Flatten())\n",
    "    \n",
    "    model.add(Dense(128, activation='relu', kernel_initializer='he_uniform'))\n",
    "    \n",
    "    model.add(Dense(1, activation='sigmoid'))\n",
    "    # compile model\n",
    "    opt = SGD(lr=0.001, momentum=0.9)\n",
    "    model.compile(optimizer=opt, loss='binary_crossentropy', metrics=['accuracy'])\n",
    "    return model\n"
   ]
  },
  {
   "cell_type": "code",
   "execution_count": 40,
   "metadata": {},
   "outputs": [
    {
     "name": "stdout",
     "output_type": "stream",
     "text": [
      "Epoch 1/100\n",
      "75/75 [==============================] - 1s 9ms/step - loss: 0.6928 - accuracy: 0.5234 - val_loss: 0.6889 - val_accuracy: 0.6332\n",
      "Epoch 2/100\n",
      "75/75 [==============================] - 1s 7ms/step - loss: 0.6885 - accuracy: 0.6191 - val_loss: 0.6836 - val_accuracy: 0.6750\n",
      "Epoch 3/100\n",
      "75/75 [==============================] - 1s 8ms/step - loss: 0.6843 - accuracy: 0.6426 - val_loss: 0.6774 - val_accuracy: 0.6985\n",
      "Epoch 4/100\n",
      "75/75 [==============================] - 0s 7ms/step - loss: 0.6793 - accuracy: 0.6672 - val_loss: 0.6700 - val_accuracy: 0.7437\n",
      "Epoch 5/100\n",
      "75/75 [==============================] - 0s 7ms/step - loss: 0.6735 - accuracy: 0.6944 - val_loss: 0.6611 - val_accuracy: 0.7839\n",
      "Epoch 6/100\n",
      "75/75 [==============================] - 1s 7ms/step - loss: 0.6665 - accuracy: 0.7153 - val_loss: 0.6507 - val_accuracy: 0.8090\n",
      "Epoch 7/100\n",
      "75/75 [==============================] - 1s 7ms/step - loss: 0.6585 - accuracy: 0.7283 - val_loss: 0.6391 - val_accuracy: 0.8291\n",
      "Epoch 8/100\n",
      "75/75 [==============================] - 1s 7ms/step - loss: 0.6497 - accuracy: 0.7458 - val_loss: 0.6259 - val_accuracy: 0.8291\n",
      "Epoch 9/100\n",
      "75/75 [==============================] - 1s 7ms/step - loss: 0.6400 - accuracy: 0.7487 - val_loss: 0.6123 - val_accuracy: 0.8325\n",
      "Epoch 10/100\n",
      "75/75 [==============================] - 1s 7ms/step - loss: 0.6292 - accuracy: 0.7579 - val_loss: 0.5959 - val_accuracy: 0.8459\n",
      "Epoch 11/100\n",
      "75/75 [==============================] - 1s 8ms/step - loss: 0.6174 - accuracy: 0.7680 - val_loss: 0.5801 - val_accuracy: 0.8509\n",
      "Epoch 12/100\n",
      "75/75 [==============================] - 0s 7ms/step - loss: 0.6053 - accuracy: 0.7776 - val_loss: 0.5620 - val_accuracy: 0.8626\n",
      "Epoch 13/100\n",
      "75/75 [==============================] - 0s 7ms/step - loss: 0.5924 - accuracy: 0.7780 - val_loss: 0.5418 - val_accuracy: 0.8777\n",
      "Epoch 14/100\n",
      "75/75 [==============================] - 1s 7ms/step - loss: 0.5788 - accuracy: 0.7843 - val_loss: 0.5234 - val_accuracy: 0.8760\n",
      "Epoch 15/100\n",
      "75/75 [==============================] - 1s 7ms/step - loss: 0.5649 - accuracy: 0.7918 - val_loss: 0.5017 - val_accuracy: 0.8794\n",
      "Epoch 16/100\n",
      "75/75 [==============================] - 0s 7ms/step - loss: 0.5516 - accuracy: 0.7914 - val_loss: 0.4820 - val_accuracy: 0.8928\n",
      "Epoch 17/100\n",
      "75/75 [==============================] - 0s 7ms/step - loss: 0.5388 - accuracy: 0.7972 - val_loss: 0.4657 - val_accuracy: 0.8928\n",
      "Epoch 18/100\n",
      "75/75 [==============================] - 0s 7ms/step - loss: 0.5250 - accuracy: 0.8048 - val_loss: 0.4447 - val_accuracy: 0.8995\n",
      "Epoch 19/100\n",
      "75/75 [==============================] - 1s 7ms/step - loss: 0.5128 - accuracy: 0.8064 - val_loss: 0.4270 - val_accuracy: 0.8995\n",
      "Epoch 20/100\n",
      "75/75 [==============================] - 1s 8ms/step - loss: 0.5015 - accuracy: 0.8123 - val_loss: 0.4137 - val_accuracy: 0.9028\n",
      "Epoch 21/100\n",
      "75/75 [==============================] - 1s 7ms/step - loss: 0.4909 - accuracy: 0.8127 - val_loss: 0.3948 - val_accuracy: 0.9129\n",
      "Epoch 22/100\n",
      "75/75 [==============================] - 0s 7ms/step - loss: 0.4810 - accuracy: 0.8131 - val_loss: 0.3863 - val_accuracy: 0.9062\n",
      "Epoch 23/100\n",
      "75/75 [==============================] - 0s 7ms/step - loss: 0.4729 - accuracy: 0.8152 - val_loss: 0.3684 - val_accuracy: 0.9196\n",
      "Epoch 24/100\n",
      "75/75 [==============================] - 0s 7ms/step - loss: 0.4642 - accuracy: 0.8173 - val_loss: 0.3585 - val_accuracy: 0.9229\n",
      "Epoch 25/100\n",
      "75/75 [==============================] - 1s 8ms/step - loss: 0.4568 - accuracy: 0.8177 - val_loss: 0.3461 - val_accuracy: 0.9229\n",
      "Epoch 26/100\n",
      "75/75 [==============================] - 1s 9ms/step - loss: 0.4500 - accuracy: 0.8236 - val_loss: 0.3386 - val_accuracy: 0.9213\n",
      "Epoch 27/100\n",
      "75/75 [==============================] - 1s 7ms/step - loss: 0.4437 - accuracy: 0.8232 - val_loss: 0.3297 - val_accuracy: 0.9196\n",
      "Epoch 28/100\n",
      "75/75 [==============================] - 0s 6ms/step - loss: 0.4384 - accuracy: 0.8282 - val_loss: 0.3189 - val_accuracy: 0.9213\n",
      "Epoch 29/100\n",
      "75/75 [==============================] - 1s 8ms/step - loss: 0.4331 - accuracy: 0.8290 - val_loss: 0.3138 - val_accuracy: 0.9162\n",
      "Epoch 30/100\n",
      "75/75 [==============================] - 1s 8ms/step - loss: 0.4274 - accuracy: 0.8324 - val_loss: 0.2997 - val_accuracy: 0.9229\n",
      "Epoch 31/100\n",
      "75/75 [==============================] - 1s 7ms/step - loss: 0.4238 - accuracy: 0.8353 - val_loss: 0.3118 - val_accuracy: 0.9146\n",
      "Epoch 32/100\n",
      "75/75 [==============================] - 1s 8ms/step - loss: 0.4182 - accuracy: 0.8319 - val_loss: 0.2847 - val_accuracy: 0.9296\n",
      "Epoch 33/100\n",
      "75/75 [==============================] - 1s 10ms/step - loss: 0.4145 - accuracy: 0.8332 - val_loss: 0.2877 - val_accuracy: 0.9229\n",
      "Epoch 34/100\n",
      "75/75 [==============================] - 1s 7ms/step - loss: 0.4104 - accuracy: 0.8332 - val_loss: 0.2700 - val_accuracy: 0.9380\n",
      "Epoch 35/100\n",
      "75/75 [==============================] - 0s 6ms/step - loss: 0.4077 - accuracy: 0.8344 - val_loss: 0.2728 - val_accuracy: 0.9296\n",
      "Epoch 36/100\n",
      "75/75 [==============================] - 0s 7ms/step - loss: 0.4035 - accuracy: 0.8390 - val_loss: 0.2696 - val_accuracy: 0.9280\n",
      "Epoch 37/100\n",
      "75/75 [==============================] - 0s 6ms/step - loss: 0.4005 - accuracy: 0.8403 - val_loss: 0.2713 - val_accuracy: 0.9263\n",
      "Epoch 38/100\n",
      "75/75 [==============================] - 0s 6ms/step - loss: 0.3969 - accuracy: 0.8428 - val_loss: 0.2745 - val_accuracy: 0.9246\n",
      "Epoch 39/100\n",
      "75/75 [==============================] - 0s 6ms/step - loss: 0.3947 - accuracy: 0.8395 - val_loss: 0.2687 - val_accuracy: 0.9263\n",
      "Epoch 40/100\n",
      "75/75 [==============================] - 1s 8ms/step - loss: 0.3914 - accuracy: 0.8449 - val_loss: 0.2478 - val_accuracy: 0.9296\n",
      "Epoch 41/100\n",
      "75/75 [==============================] - 1s 9ms/step - loss: 0.3890 - accuracy: 0.8449 - val_loss: 0.2521 - val_accuracy: 0.9313\n",
      "Epoch 42/100\n",
      "75/75 [==============================] - 1s 8ms/step - loss: 0.3861 - accuracy: 0.8457 - val_loss: 0.2423 - val_accuracy: 0.9313\n",
      "Epoch 43/100\n",
      "75/75 [==============================] - 0s 5ms/step - loss: 0.3833 - accuracy: 0.8495 - val_loss: 0.2618 - val_accuracy: 0.9313\n",
      "Epoch 44/100\n",
      "75/75 [==============================] - 0s 6ms/step - loss: 0.3808 - accuracy: 0.8441 - val_loss: 0.2540 - val_accuracy: 0.9330\n",
      "Epoch 45/100\n",
      "75/75 [==============================] - 0s 6ms/step - loss: 0.3778 - accuracy: 0.8537 - val_loss: 0.2481 - val_accuracy: 0.9380\n",
      "Epoch 46/100\n",
      "75/75 [==============================] - 0s 6ms/step - loss: 0.3771 - accuracy: 0.8512 - val_loss: 0.2328 - val_accuracy: 0.9380\n",
      "Epoch 47/100\n",
      "75/75 [==============================] - 1s 7ms/step - loss: 0.3739 - accuracy: 0.8520 - val_loss: 0.2411 - val_accuracy: 0.9397\n",
      "Epoch 48/100\n",
      "75/75 [==============================] - 0s 6ms/step - loss: 0.3715 - accuracy: 0.8541 - val_loss: 0.2304 - val_accuracy: 0.9430\n",
      "Epoch 49/100\n",
      "75/75 [==============================] - 0s 6ms/step - loss: 0.3696 - accuracy: 0.8574 - val_loss: 0.2333 - val_accuracy: 0.9414\n",
      "Epoch 50/100\n",
      "75/75 [==============================] - 0s 6ms/step - loss: 0.3689 - accuracy: 0.8528 - val_loss: 0.2279 - val_accuracy: 0.9430\n",
      "Epoch 51/100\n",
      "75/75 [==============================] - 0s 5ms/step - loss: 0.3663 - accuracy: 0.8558 - val_loss: 0.2193 - val_accuracy: 0.9464\n",
      "Epoch 52/100\n",
      "75/75 [==============================] - 0s 6ms/step - loss: 0.3641 - accuracy: 0.8599 - val_loss: 0.2438 - val_accuracy: 0.9380\n",
      "Epoch 53/100\n",
      "75/75 [==============================] - 0s 6ms/step - loss: 0.3618 - accuracy: 0.8570 - val_loss: 0.2169 - val_accuracy: 0.9464\n",
      "Epoch 54/100\n",
      "75/75 [==============================] - 0s 6ms/step - loss: 0.3603 - accuracy: 0.8608 - val_loss: 0.2258 - val_accuracy: 0.9430\n",
      "Epoch 55/100\n",
      "75/75 [==============================] - 0s 6ms/step - loss: 0.3586 - accuracy: 0.8604 - val_loss: 0.2291 - val_accuracy: 0.9447\n",
      "Epoch 56/100\n",
      "75/75 [==============================] - 0s 5ms/step - loss: 0.3589 - accuracy: 0.8570 - val_loss: 0.2053 - val_accuracy: 0.9564\n",
      "Epoch 57/100\n",
      "75/75 [==============================] - 1s 9ms/step - loss: 0.3576 - accuracy: 0.8574 - val_loss: 0.2241 - val_accuracy: 0.9447\n",
      "Epoch 58/100\n",
      "75/75 [==============================] - 1s 7ms/step - loss: 0.3545 - accuracy: 0.8637 - val_loss: 0.2259 - val_accuracy: 0.9481\n"
     ]
    },
    {
     "name": "stdout",
     "output_type": "stream",
     "text": [
      "Epoch 59/100\n",
      "75/75 [==============================] - 1s 7ms/step - loss: 0.3529 - accuracy: 0.8616 - val_loss: 0.2041 - val_accuracy: 0.9514\n",
      "Epoch 60/100\n",
      "75/75 [==============================] - 0s 6ms/step - loss: 0.3503 - accuracy: 0.8620 - val_loss: 0.2007 - val_accuracy: 0.9581\n",
      "Epoch 61/100\n",
      "75/75 [==============================] - 0s 5ms/step - loss: 0.3496 - accuracy: 0.8633 - val_loss: 0.2155 - val_accuracy: 0.9447\n",
      "Epoch 62/100\n",
      "75/75 [==============================] - 0s 7ms/step - loss: 0.3488 - accuracy: 0.8637 - val_loss: 0.1993 - val_accuracy: 0.9581\n",
      "Epoch 63/100\n",
      "75/75 [==============================] - 0s 6ms/step - loss: 0.3474 - accuracy: 0.8629 - val_loss: 0.2040 - val_accuracy: 0.9514\n",
      "Epoch 64/100\n",
      "75/75 [==============================] - 0s 6ms/step - loss: 0.3457 - accuracy: 0.8633 - val_loss: 0.2060 - val_accuracy: 0.9447\n",
      "Epoch 65/100\n",
      "75/75 [==============================] - 1s 9ms/step - loss: 0.3430 - accuracy: 0.8633 - val_loss: 0.1786 - val_accuracy: 0.9732\n",
      "Epoch 66/100\n",
      "75/75 [==============================] - 1s 9ms/step - loss: 0.3485 - accuracy: 0.8608 - val_loss: 0.1849 - val_accuracy: 0.9715\n",
      "Epoch 67/100\n",
      "75/75 [==============================] - 0s 6ms/step - loss: 0.3420 - accuracy: 0.8679 - val_loss: 0.1959 - val_accuracy: 0.9548\n",
      "Epoch 68/100\n",
      "75/75 [==============================] - 1s 9ms/step - loss: 0.3402 - accuracy: 0.8675 - val_loss: 0.1990 - val_accuracy: 0.9548\n",
      "Epoch 69/100\n",
      "75/75 [==============================] - 1s 8ms/step - loss: 0.3395 - accuracy: 0.8671 - val_loss: 0.1980 - val_accuracy: 0.9548\n",
      "Epoch 70/100\n",
      "75/75 [==============================] - 0s 6ms/step - loss: 0.3387 - accuracy: 0.8666 - val_loss: 0.2139 - val_accuracy: 0.9497\n",
      "Epoch 71/100\n",
      "75/75 [==============================] - 1s 8ms/step - loss: 0.3388 - accuracy: 0.8637 - val_loss: 0.2194 - val_accuracy: 0.9481\n",
      "Epoch 72/100\n",
      "75/75 [==============================] - 1s 8ms/step - loss: 0.3365 - accuracy: 0.8666 - val_loss: 0.2175 - val_accuracy: 0.9464\n",
      "Epoch 73/100\n",
      "75/75 [==============================] - 0s 5ms/step - loss: 0.3353 - accuracy: 0.8675 - val_loss: 0.1786 - val_accuracy: 0.9715\n",
      "Epoch 74/100\n",
      "75/75 [==============================] - 0s 6ms/step - loss: 0.3343 - accuracy: 0.8650 - val_loss: 0.2047 - val_accuracy: 0.9497\n",
      "Epoch 75/100\n",
      "75/75 [==============================] - 0s 6ms/step - loss: 0.3324 - accuracy: 0.8675 - val_loss: 0.1811 - val_accuracy: 0.9732\n",
      "Epoch 76/100\n",
      "75/75 [==============================] - 0s 6ms/step - loss: 0.3313 - accuracy: 0.8704 - val_loss: 0.2166 - val_accuracy: 0.9447\n",
      "Epoch 77/100\n",
      "75/75 [==============================] - 0s 6ms/step - loss: 0.3312 - accuracy: 0.8717 - val_loss: 0.2219 - val_accuracy: 0.9414\n",
      "Epoch 78/100\n",
      "75/75 [==============================] - 1s 8ms/step - loss: 0.3297 - accuracy: 0.8675 - val_loss: 0.1899 - val_accuracy: 0.9648\n",
      "Epoch 79/100\n",
      "75/75 [==============================] - 1s 9ms/step - loss: 0.3285 - accuracy: 0.8708 - val_loss: 0.1864 - val_accuracy: 0.9665\n",
      "Epoch 80/100\n",
      "75/75 [==============================] - 1s 11ms/step - loss: 0.3280 - accuracy: 0.8687 - val_loss: 0.1905 - val_accuracy: 0.9615\n",
      "Epoch 81/100\n",
      "75/75 [==============================] - 1s 11ms/step - loss: 0.3270 - accuracy: 0.8712 - val_loss: 0.1857 - val_accuracy: 0.9698\n",
      "Epoch 82/100\n",
      "75/75 [==============================] - 1s 10ms/step - loss: 0.3252 - accuracy: 0.8725 - val_loss: 0.1888 - val_accuracy: 0.9682\n",
      "Epoch 83/100\n",
      "75/75 [==============================] - 1s 9ms/step - loss: 0.3242 - accuracy: 0.8704 - val_loss: 0.1984 - val_accuracy: 0.9548\n",
      "Epoch 84/100\n",
      "75/75 [==============================] - 1s 9ms/step - loss: 0.3236 - accuracy: 0.8717 - val_loss: 0.1882 - val_accuracy: 0.9715\n",
      "Epoch 85/100\n",
      "75/75 [==============================] - 0s 6ms/step - loss: 0.3223 - accuracy: 0.8704 - val_loss: 0.1867 - val_accuracy: 0.9682\n",
      "Epoch 86/100\n",
      "75/75 [==============================] - 0s 6ms/step - loss: 0.3236 - accuracy: 0.8671 - val_loss: 0.2155 - val_accuracy: 0.9447\n",
      "Epoch 87/100\n",
      "75/75 [==============================] - 0s 6ms/step - loss: 0.3200 - accuracy: 0.8708 - val_loss: 0.1787 - val_accuracy: 0.9765\n",
      "Epoch 88/100\n",
      "75/75 [==============================] - 1s 7ms/step - loss: 0.3203 - accuracy: 0.8721 - val_loss: 0.1755 - val_accuracy: 0.9765\n",
      "Epoch 89/100\n",
      "75/75 [==============================] - 0s 6ms/step - loss: 0.3202 - accuracy: 0.8704 - val_loss: 0.1970 - val_accuracy: 0.9564\n",
      "Epoch 90/100\n",
      "75/75 [==============================] - 0s 6ms/step - loss: 0.3182 - accuracy: 0.8712 - val_loss: 0.1865 - val_accuracy: 0.9665\n",
      "Epoch 91/100\n",
      "75/75 [==============================] - 0s 6ms/step - loss: 0.3168 - accuracy: 0.8708 - val_loss: 0.2321 - val_accuracy: 0.9296\n",
      "Epoch 92/100\n",
      "75/75 [==============================] - 1s 7ms/step - loss: 0.3166 - accuracy: 0.8696 - val_loss: 0.1701 - val_accuracy: 0.9782\n",
      "Epoch 93/100\n",
      "75/75 [==============================] - 1s 9ms/step - loss: 0.3152 - accuracy: 0.8729 - val_loss: 0.2048 - val_accuracy: 0.9531\n",
      "Epoch 94/100\n",
      "75/75 [==============================] - 0s 7ms/step - loss: 0.3152 - accuracy: 0.8704 - val_loss: 0.1993 - val_accuracy: 0.9531\n",
      "Epoch 95/100\n",
      "75/75 [==============================] - 0s 7ms/step - loss: 0.3139 - accuracy: 0.8712 - val_loss: 0.2439 - val_accuracy: 0.9179\n",
      "Epoch 96/100\n",
      "75/75 [==============================] - 0s 6ms/step - loss: 0.3148 - accuracy: 0.8700 - val_loss: 0.2211 - val_accuracy: 0.9363\n",
      "Epoch 97/100\n",
      "75/75 [==============================] - 0s 6ms/step - loss: 0.3120 - accuracy: 0.8712 - val_loss: 0.1940 - val_accuracy: 0.9564\n",
      "Epoch 98/100\n",
      "75/75 [==============================] - 0s 6ms/step - loss: 0.3125 - accuracy: 0.8725 - val_loss: 0.1921 - val_accuracy: 0.9581\n",
      "Epoch 99/100\n",
      "75/75 [==============================] - 0s 7ms/step - loss: 0.3107 - accuracy: 0.8750 - val_loss: 0.1889 - val_accuracy: 0.9598\n",
      "Epoch 100/100\n",
      "75/75 [==============================] - 0s 6ms/step - loss: 0.3085 - accuracy: 0.8758 - val_loss: 0.2118 - val_accuracy: 0.9464\n"
     ]
    },
    {
     "data": {
      "text/plain": [
       "<tensorflow.python.keras.callbacks.History at 0x16fe43210>"
      ]
     },
     "execution_count": 40,
     "metadata": {},
     "output_type": "execute_result"
    }
   ],
   "source": [
    "# Use the function with the created model\n",
    "\n",
    "model = model_neural()\n",
    "\n",
    "model.fit(X_train, y_train, epochs = 100, validation_data = (X_test, y_test))"
   ]
  },
  {
   "cell_type": "code",
   "execution_count": 44,
   "metadata": {},
   "outputs": [],
   "source": [
    "# Get the predictions\n",
    "\n",
    "predictions = model.predict(X_test)\n",
    "\n",
    "# Get them into 0 and 1 values\n",
    "\n",
    "binary_values = []\n",
    "\n",
    "# Start a for loop to iterate over the predictions array\n",
    "\n",
    "for i in predictions:\n",
    "    if i < 0.5:\n",
    "        binary_values.append(0)\n",
    "    if i >= 0.5:\n",
    "        binary_values.append(1)\n",
    "        "
   ]
  },
  {
   "cell_type": "markdown",
   "metadata": {},
   "source": [
    "## Evaluation of the Model"
   ]
  },
  {
   "cell_type": "code",
   "execution_count": 45,
   "metadata": {},
   "outputs": [
    {
     "data": {
      "image/png": "[encoded data removed]",
      "text/plain": [
       "<Figure size 432x288 with 2 Axes>"
      ]
     },
     "metadata": {
      "needs_background": "light"
     },
     "output_type": "display_data"
    }
   ],
   "source": [
    "# Display the confusion matrix to evaluate the model\n",
    "\n",
    "cm = confusion_matrix(y_test, binary_values)\n",
    "cmd = ConfusionMatrixDisplay(cm, display_labels=['not_flip','flip'])\n",
    "cmd.plot()\n",
    "\n",
    "plt.show()"
   ]
  },
  {
   "cell_type": "code",
   "execution_count": 46,
   "metadata": {},
   "outputs": [
    {
     "name": "stdout",
     "output_type": "stream",
     "text": [
      "              precision    recall  f1-score   support\n",
      "\n",
      "           0       1.00      0.90      0.95       307\n",
      "           1       0.90      1.00      0.95       290\n",
      "\n",
      "    accuracy                           0.95       597\n",
      "   macro avg       0.95      0.95      0.95       597\n",
      "weighted avg       0.95      0.95      0.95       597\n",
      "\n"
     ]
    }
   ],
   "source": [
    "# Print the Classification report to get the precision, recall, f1-score\n",
    "\n",
    "print(classification_report(y_test, binary_values))"
   ]
  },
  {
   "cell_type": "code",
   "execution_count": null,
   "metadata": {},
   "outputs": [],
   "source": []
  }
 ],
 "metadata": {
  "kernelspec": {
   "display_name": "Python 3",
   "language": "python",
   "name": "python3"
  },
  "language_info": {
   "codemirror_mode": {
    "name": "ipython",
    "version": 3
   },
   "file_extension": ".py",
   "mimetype": "text/x-python",
   "name": "python",
   "nbconvert_exporter": "python",
   "pygments_lexer": "ipython3",
   "version": "3.7.4"
  }
 },
 "nbformat": 4,
 "nbformat_minor": 2
}
